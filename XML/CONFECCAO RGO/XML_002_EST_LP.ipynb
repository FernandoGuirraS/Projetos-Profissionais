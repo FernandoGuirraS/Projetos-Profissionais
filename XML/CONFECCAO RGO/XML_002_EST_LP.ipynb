{
 "cells": [
  {
   "cell_type": "markdown",
   "id": "9095905e",
   "metadata": {},
   "source": [
    "# XML - Gás Ventilado"
   ]
  },
  {
   "cell_type": "markdown",
   "id": "359addda",
   "metadata": {},
   "source": [
    "## Bibliotecas"
   ]
  },
  {
   "cell_type": "code",
   "execution_count": 1,
   "id": "761f4f85",
   "metadata": {},
   "outputs": [],
   "source": [
    "from datetime import datetime, timedelta\n",
    "import pandas as pd\n",
    "import os"
   ]
  },
  {
   "cell_type": "markdown",
   "id": "e89f1f06",
   "metadata": {},
   "source": [
    "## Tratamento de Dados\n",
    "\n",
    "### Dados de Lagoa Parda\n",
    "\n",
    "Adequação de dados de produção de Lagoa Parda, criação de variável com data do dia anterior"
   ]
  },
  {
   "cell_type": "code",
   "execution_count": 4,
   "id": "0933ba10",
   "metadata": {},
   "outputs": [],
   "source": [
    "df = pd.read_excel(\"/Users/Fernando Guirra/Desktop/SCRIPTS PY/Nuevo/112024/RGO_LAGOA_PARDA_NOVEMBRO2024.xlsx\")"
   ]
  },
  {
   "cell_type": "code",
   "execution_count": 6,
   "id": "dc0bd6bb",
   "metadata": {},
   "outputs": [
    {
     "data": {
      "text/html": [
       "<div>\n",
       "<style scoped>\n",
       "    .dataframe tbody tr th:only-of-type {\n",
       "        vertical-align: middle;\n",
       "    }\n",
       "\n",
       "    .dataframe tbody tr th {\n",
       "        vertical-align: top;\n",
       "    }\n",
       "\n",
       "    .dataframe thead th {\n",
       "        text-align: right;\n",
       "    }\n",
       "</style>\n",
       "<table border=\"1\" class=\"dataframe\">\n",
       "  <thead>\n",
       "    <tr style=\"text-align: right;\">\n",
       "      <th></th>\n",
       "      <th>Dia</th>\n",
       "      <th>LPB</th>\n",
       "      <th>LP</th>\n",
       "      <th>Estação LP</th>\n",
       "    </tr>\n",
       "  </thead>\n",
       "  <tbody>\n",
       "    <tr>\n",
       "      <th>0</th>\n",
       "      <td>2024-11-01</td>\n",
       "      <td>79.729744</td>\n",
       "      <td>96.475122</td>\n",
       "      <td>176.204866</td>\n",
       "    </tr>\n",
       "    <tr>\n",
       "      <th>1</th>\n",
       "      <td>2024-11-02</td>\n",
       "      <td>67.474850</td>\n",
       "      <td>82.787838</td>\n",
       "      <td>150.262688</td>\n",
       "    </tr>\n",
       "    <tr>\n",
       "      <th>2</th>\n",
       "      <td>2024-11-03</td>\n",
       "      <td>85.569849</td>\n",
       "      <td>103.984291</td>\n",
       "      <td>189.554140</td>\n",
       "    </tr>\n",
       "    <tr>\n",
       "      <th>3</th>\n",
       "      <td>2024-11-04</td>\n",
       "      <td>78.739252</td>\n",
       "      <td>94.987287</td>\n",
       "      <td>173.726539</td>\n",
       "    </tr>\n",
       "    <tr>\n",
       "      <th>4</th>\n",
       "      <td>2024-11-05</td>\n",
       "      <td>81.738496</td>\n",
       "      <td>96.566838</td>\n",
       "      <td>178.305334</td>\n",
       "    </tr>\n",
       "  </tbody>\n",
       "</table>\n",
       "</div>"
      ],
      "text/plain": [
       "          Dia        LPB          LP  Estação LP\n",
       "0  2024-11-01  79.729744   96.475122  176.204866\n",
       "1  2024-11-02  67.474850   82.787838  150.262688\n",
       "2  2024-11-03  85.569849  103.984291  189.554140\n",
       "3  2024-11-04  78.739252   94.987287  173.726539\n",
       "4  2024-11-05  81.738496   96.566838  178.305334"
      ]
     },
     "execution_count": 6,
     "metadata": {},
     "output_type": "execute_result"
    }
   ],
   "source": [
    "df.head()"
   ]
  },
  {
   "cell_type": "code",
   "execution_count": 8,
   "id": "bd684f14",
   "metadata": {},
   "outputs": [],
   "source": [
    "dias = []\n",
    "\n",
    "for dt in df.Dia.tolist():\n",
    "    dias.append(format(datetime.strptime(dt, \"%Y-%m-%d\"), \"%d/%m/%Y\"))\n",
    "    \n",
    "df['Dia'] = dias"
   ]
  },
  {
   "cell_type": "code",
   "execution_count": 10,
   "id": "a849036d",
   "metadata": {},
   "outputs": [
    {
     "data": {
      "text/plain": [
       "Dia            object\n",
       "LPB           float64\n",
       "LP            float64\n",
       "Estação LP    float64\n",
       "dtype: object"
      ]
     },
     "execution_count": 10,
     "metadata": {},
     "output_type": "execute_result"
    }
   ],
   "source": [
    "df.dtypes"
   ]
  },
  {
   "cell_type": "code",
   "execution_count": 12,
   "id": "2cc96212",
   "metadata": {},
   "outputs": [],
   "source": [
    "# Converter a coluna 'Data' para objetos datetime\n",
    "df['Dia'] = pd.to_datetime(df['Dia'], format='%d/%m/%Y')"
   ]
  },
  {
   "cell_type": "code",
   "execution_count": 14,
   "id": "263342ae",
   "metadata": {},
   "outputs": [],
   "source": [
    "# Subtrair um dia da coluna 'Data'\n",
    "df['Dia Sucessor'] = df['Dia'] + timedelta(days=1)"
   ]
  },
  {
   "cell_type": "code",
   "execution_count": 16,
   "id": "0e6b7d06",
   "metadata": {},
   "outputs": [
    {
     "data": {
      "text/html": [
       "<div>\n",
       "<style scoped>\n",
       "    .dataframe tbody tr th:only-of-type {\n",
       "        vertical-align: middle;\n",
       "    }\n",
       "\n",
       "    .dataframe tbody tr th {\n",
       "        vertical-align: top;\n",
       "    }\n",
       "\n",
       "    .dataframe thead th {\n",
       "        text-align: right;\n",
       "    }\n",
       "</style>\n",
       "<table border=\"1\" class=\"dataframe\">\n",
       "  <thead>\n",
       "    <tr style=\"text-align: right;\">\n",
       "      <th></th>\n",
       "      <th>Dia</th>\n",
       "      <th>LPB</th>\n",
       "      <th>LP</th>\n",
       "      <th>Estação LP</th>\n",
       "      <th>Dia Sucessor</th>\n",
       "    </tr>\n",
       "  </thead>\n",
       "  <tbody>\n",
       "    <tr>\n",
       "      <th>0</th>\n",
       "      <td>2024-11-01</td>\n",
       "      <td>79.729744</td>\n",
       "      <td>96.475122</td>\n",
       "      <td>176.204866</td>\n",
       "      <td>2024-11-02</td>\n",
       "    </tr>\n",
       "    <tr>\n",
       "      <th>1</th>\n",
       "      <td>2024-11-02</td>\n",
       "      <td>67.474850</td>\n",
       "      <td>82.787838</td>\n",
       "      <td>150.262688</td>\n",
       "      <td>2024-11-03</td>\n",
       "    </tr>\n",
       "    <tr>\n",
       "      <th>2</th>\n",
       "      <td>2024-11-03</td>\n",
       "      <td>85.569849</td>\n",
       "      <td>103.984291</td>\n",
       "      <td>189.554140</td>\n",
       "      <td>2024-11-04</td>\n",
       "    </tr>\n",
       "    <tr>\n",
       "      <th>3</th>\n",
       "      <td>2024-11-04</td>\n",
       "      <td>78.739252</td>\n",
       "      <td>94.987287</td>\n",
       "      <td>173.726539</td>\n",
       "      <td>2024-11-05</td>\n",
       "    </tr>\n",
       "    <tr>\n",
       "      <th>4</th>\n",
       "      <td>2024-11-05</td>\n",
       "      <td>81.738496</td>\n",
       "      <td>96.566838</td>\n",
       "      <td>178.305334</td>\n",
       "      <td>2024-11-06</td>\n",
       "    </tr>\n",
       "  </tbody>\n",
       "</table>\n",
       "</div>"
      ],
      "text/plain": [
       "         Dia        LPB          LP  Estação LP Dia Sucessor\n",
       "0 2024-11-01  79.729744   96.475122  176.204866   2024-11-02\n",
       "1 2024-11-02  67.474850   82.787838  150.262688   2024-11-03\n",
       "2 2024-11-03  85.569849  103.984291  189.554140   2024-11-04\n",
       "3 2024-11-04  78.739252   94.987287  173.726539   2024-11-05\n",
       "4 2024-11-05  81.738496   96.566838  178.305334   2024-11-06"
      ]
     },
     "execution_count": 16,
     "metadata": {},
     "output_type": "execute_result"
    }
   ],
   "source": [
    "df.head()"
   ]
  },
  {
   "cell_type": "code",
   "execution_count": 18,
   "id": "4846472a",
   "metadata": {},
   "outputs": [],
   "source": [
    "# Transformar a coluna de datas em texto (string) no formato desejado\n",
    "df['Dia'] = df['Dia'].dt.strftime('%d/%m/%Y 00:00:00')\n",
    "df['Dia Sucessor'] = df['Dia Sucessor'].dt.strftime('%d/%m/%Y 00:00:00')"
   ]
  },
  {
   "cell_type": "code",
   "execution_count": 20,
   "id": "428f974f",
   "metadata": {},
   "outputs": [],
   "source": [
    "df_final = df[['Dia', 'Dia Sucessor', 'LPB', 'LP', 'Estação LP']]"
   ]
  },
  {
   "cell_type": "code",
   "execution_count": 22,
   "id": "755e0e99",
   "metadata": {},
   "outputs": [
    {
     "name": "stderr",
     "output_type": "stream",
     "text": [
      "C:\\Users\\Fernando Guirra\\AppData\\Local\\Temp\\ipykernel_13980\\2236413276.py:1: SettingWithCopyWarning: \n",
      "A value is trying to be set on a copy of a slice from a DataFrame.\n",
      "Try using .loc[row_indexer,col_indexer] = value instead\n",
      "\n",
      "See the caveats in the documentation: https://pandas.pydata.org/pandas-docs/stable/user_guide/indexing.html#returning-a-view-versus-a-copy\n",
      "  df_final['Ventilado103'] = round(df_final['Estação LP'] / 1000, 5)\n"
     ]
    }
   ],
   "source": [
    "df_final['Ventilado103'] = round(df_final['Estação LP'] / 1000, 5)"
   ]
  },
  {
   "cell_type": "code",
   "execution_count": 24,
   "id": "d0b5081d",
   "metadata": {},
   "outputs": [
    {
     "data": {
      "text/html": [
       "<div>\n",
       "<style scoped>\n",
       "    .dataframe tbody tr th:only-of-type {\n",
       "        vertical-align: middle;\n",
       "    }\n",
       "\n",
       "    .dataframe tbody tr th {\n",
       "        vertical-align: top;\n",
       "    }\n",
       "\n",
       "    .dataframe thead th {\n",
       "        text-align: right;\n",
       "    }\n",
       "</style>\n",
       "<table border=\"1\" class=\"dataframe\">\n",
       "  <thead>\n",
       "    <tr style=\"text-align: right;\">\n",
       "      <th></th>\n",
       "      <th>Dia</th>\n",
       "      <th>Dia Sucessor</th>\n",
       "      <th>LPB</th>\n",
       "      <th>LP</th>\n",
       "      <th>Estação LP</th>\n",
       "      <th>Ventilado103</th>\n",
       "    </tr>\n",
       "  </thead>\n",
       "  <tbody>\n",
       "    <tr>\n",
       "      <th>0</th>\n",
       "      <td>01/11/2024 00:00:00</td>\n",
       "      <td>02/11/2024 00:00:00</td>\n",
       "      <td>79.729744</td>\n",
       "      <td>96.475122</td>\n",
       "      <td>176.204866</td>\n",
       "      <td>0.17620</td>\n",
       "    </tr>\n",
       "    <tr>\n",
       "      <th>1</th>\n",
       "      <td>02/11/2024 00:00:00</td>\n",
       "      <td>03/11/2024 00:00:00</td>\n",
       "      <td>67.474850</td>\n",
       "      <td>82.787838</td>\n",
       "      <td>150.262688</td>\n",
       "      <td>0.15026</td>\n",
       "    </tr>\n",
       "    <tr>\n",
       "      <th>2</th>\n",
       "      <td>03/11/2024 00:00:00</td>\n",
       "      <td>04/11/2024 00:00:00</td>\n",
       "      <td>85.569849</td>\n",
       "      <td>103.984291</td>\n",
       "      <td>189.554140</td>\n",
       "      <td>0.18955</td>\n",
       "    </tr>\n",
       "    <tr>\n",
       "      <th>3</th>\n",
       "      <td>04/11/2024 00:00:00</td>\n",
       "      <td>05/11/2024 00:00:00</td>\n",
       "      <td>78.739252</td>\n",
       "      <td>94.987287</td>\n",
       "      <td>173.726539</td>\n",
       "      <td>0.17373</td>\n",
       "    </tr>\n",
       "    <tr>\n",
       "      <th>4</th>\n",
       "      <td>05/11/2024 00:00:00</td>\n",
       "      <td>06/11/2024 00:00:00</td>\n",
       "      <td>81.738496</td>\n",
       "      <td>96.566838</td>\n",
       "      <td>178.305334</td>\n",
       "      <td>0.17831</td>\n",
       "    </tr>\n",
       "  </tbody>\n",
       "</table>\n",
       "</div>"
      ],
      "text/plain": [
       "                   Dia         Dia Sucessor        LPB          LP  \\\n",
       "0  01/11/2024 00:00:00  02/11/2024 00:00:00  79.729744   96.475122   \n",
       "1  02/11/2024 00:00:00  03/11/2024 00:00:00  67.474850   82.787838   \n",
       "2  03/11/2024 00:00:00  04/11/2024 00:00:00  85.569849  103.984291   \n",
       "3  04/11/2024 00:00:00  05/11/2024 00:00:00  78.739252   94.987287   \n",
       "4  05/11/2024 00:00:00  06/11/2024 00:00:00  81.738496   96.566838   \n",
       "\n",
       "   Estação LP  Ventilado103  \n",
       "0  176.204866       0.17620  \n",
       "1  150.262688       0.15026  \n",
       "2  189.554140       0.18955  \n",
       "3  173.726539       0.17373  \n",
       "4  178.305334       0.17831  "
      ]
     },
     "execution_count": 24,
     "metadata": {},
     "output_type": "execute_result"
    }
   ],
   "source": [
    "df_final.head()"
   ]
  },
  {
   "cell_type": "code",
   "execution_count": 26,
   "id": "07ea3f47",
   "metadata": {},
   "outputs": [
    {
     "name": "stderr",
     "output_type": "stream",
     "text": [
      "C:\\Users\\Fernando Guirra\\AppData\\Local\\Temp\\ipykernel_13980\\1712607966.py:1: SettingWithCopyWarning: \n",
      "A value is trying to be set on a copy of a slice from a DataFrame.\n",
      "Try using .loc[row_indexer,col_indexer] = value instead\n",
      "\n",
      "See the caveats in the documentation: https://pandas.pydata.org/pandas-docs/stable/user_guide/indexing.html#returning-a-view-versus-a-copy\n",
      "  df_final['Ventilado103'] = df_final['Ventilado103'].astype(str)\n"
     ]
    }
   ],
   "source": [
    "df_final['Ventilado103'] = df_final['Ventilado103'].astype(str)"
   ]
  },
  {
   "cell_type": "code",
   "execution_count": 28,
   "id": "5bd1e67f",
   "metadata": {},
   "outputs": [],
   "source": [
    "vent = df_final['Ventilado103'].tolist()\n",
    "cont = 0   \n",
    "for v in vent:\n",
    "    if len(v) <  7:\n",
    "        aux = v\n",
    "        while len(aux) < 7:\n",
    "            aux = aux + '0'\n",
    "        vent[cont] = aux\n",
    "        aux = ''\n",
    "    cont += 1"
   ]
  },
  {
   "cell_type": "code",
   "execution_count": 30,
   "id": "98808626",
   "metadata": {},
   "outputs": [
    {
     "name": "stderr",
     "output_type": "stream",
     "text": [
      "C:\\Users\\Fernando Guirra\\AppData\\Local\\Temp\\ipykernel_13980\\1824722831.py:1: SettingWithCopyWarning: \n",
      "A value is trying to be set on a copy of a slice from a DataFrame.\n",
      "Try using .loc[row_indexer,col_indexer] = value instead\n",
      "\n",
      "See the caveats in the documentation: https://pandas.pydata.org/pandas-docs/stable/user_guide/indexing.html#returning-a-view-versus-a-copy\n",
      "  df_final['Ventilado103'] = vent\n"
     ]
    }
   ],
   "source": [
    "df_final['Ventilado103'] = vent"
   ]
  },
  {
   "cell_type": "code",
   "execution_count": 32,
   "id": "1d974908",
   "metadata": {},
   "outputs": [
    {
     "name": "stderr",
     "output_type": "stream",
     "text": [
      "C:\\Users\\Fernando Guirra\\AppData\\Local\\Temp\\ipykernel_13980\\4137866908.py:1: FutureWarning: Series.__getitem__ treating keys as positions is deprecated. In a future version, integer keys will always be treated as labels (consistent with DataFrame behavior). To access a value by position, use `ser.iloc[pos]`\n",
      "  datetime.strptime(df_final.loc[0][0], '%d/%m/%Y 00:00:00').date()\n"
     ]
    },
    {
     "data": {
      "text/plain": [
       "datetime.date(2024, 11, 1)"
      ]
     },
     "execution_count": 32,
     "metadata": {},
     "output_type": "execute_result"
    }
   ],
   "source": [
    "datetime.strptime(df_final.loc[0][0], '%d/%m/%Y 00:00:00').date()"
   ]
  },
  {
   "cell_type": "code",
   "execution_count": 34,
   "id": "5154bd07",
   "metadata": {},
   "outputs": [
    {
     "name": "stderr",
     "output_type": "stream",
     "text": [
      "C:\\Users\\Fernando Guirra\\AppData\\Local\\Temp\\ipykernel_13980\\635685085.py:1: FutureWarning: Series.__getitem__ treating keys as positions is deprecated. In a future version, integer keys will always be treated as labels (consistent with DataFrame behavior). To access a value by position, use `ser.iloc[pos]`\n",
      "  df_final.loc[0][5]\n"
     ]
    },
    {
     "data": {
      "text/plain": [
       "'0.17620'"
      ]
     },
     "execution_count": 34,
     "metadata": {},
     "output_type": "execute_result"
    }
   ],
   "source": [
    "df_final.loc[0][5]"
   ]
  },
  {
   "cell_type": "code",
   "execution_count": 36,
   "id": "5e35d924",
   "metadata": {},
   "outputs": [
    {
     "data": {
      "text/plain": [
       "(30, 6)"
      ]
     },
     "execution_count": 36,
     "metadata": {},
     "output_type": "execute_result"
    }
   ],
   "source": [
    "df_final.shape"
   ]
  },
  {
   "cell_type": "markdown",
   "id": "7f4c515d",
   "metadata": {},
   "source": [
    "## Criando XML"
   ]
  },
  {
   "cell_type": "code",
   "execution_count": 39,
   "id": "f1f28fb1",
   "metadata": {},
   "outputs": [],
   "source": [
    "def retorna_nome(data):\n",
    "    a = a = '002'\n",
    "    b = '34812047'#'00271847'\n",
    "    c = data.strftime(\"%Y%m%d%I%M%S\")\n",
    "    d = 'xml'\n",
    "    return a + '_' + b + '_' + c + '.' + d\n",
    "\n",
    "def retorna_data_coleta(data):\n",
    "    formato_dt = \"%d/%m/%Y %H:%M:%S\"\n",
    "    minutos_add = 19\n",
    "    segundos_add = 43\n",
    "    \n",
    "    dt = datetime.strptime(data, formato_dt) # transformando string em data\n",
    "    dt_add = dt + timedelta(minutes=minutos_add, seconds=segundos_add)\n",
    "    novo_dt = dt_add.strftime(formato_dt)\n",
    "    return novo_dt"
   ]
  },
  {
   "cell_type": "code",
   "execution_count": 41,
   "id": "4634c12c",
   "metadata": {},
   "outputs": [],
   "source": [
    "xml = \"/Users/Fernando Guirra/Desktop/SCRIPTS PY/Nuevo/mascara_002_LP.xml\"\n",
    "\n",
    "import xml.etree.ElementTree as ET\n",
    "tree = ET.parse(xml)\n",
    "root = tree.getroot()"
   ]
  },
  {
   "cell_type": "code",
   "execution_count": 43,
   "id": "c637334d",
   "metadata": {},
   "outputs": [
    {
     "data": {
      "text/plain": [
       "'ESTIMADO'"
      ]
     },
     "execution_count": 43,
     "metadata": {},
     "output_type": "execute_result"
    }
   ],
   "source": [
    "root[0][0][0][0][0].text"
   ]
  },
  {
   "cell_type": "code",
   "execution_count": 45,
   "id": "c127e081",
   "metadata": {},
   "outputs": [],
   "source": [
    "i=0"
   ]
  },
  {
   "cell_type": "code",
   "execution_count": 47,
   "id": "92833f18",
   "metadata": {},
   "outputs": [
    {
     "name": "stdout",
     "output_type": "stream",
     "text": [
      "/Users/Fernando Guirra/Desktop/SCRIPTS PY/Nuevo/GERACAO/Novembro24/002_34812047_20241102120000.xml\n"
     ]
    },
    {
     "name": "stderr",
     "output_type": "stream",
     "text": [
      "C:\\Users\\Fernando Guirra\\AppData\\Local\\Temp\\ipykernel_13980\\624368555.py:1: FutureWarning: Series.__getitem__ treating keys as positions is deprecated. In a future version, integer keys will always be treated as labels (consistent with DataFrame behavior). To access a value by position, use `ser.iloc[pos]`\n",
      "  root[0][0][0][0][1].text = df_final.loc[i][1] # DHA_COLETA\n",
      "C:\\Users\\Fernando Guirra\\AppData\\Local\\Temp\\ipykernel_13980\\624368555.py:4: FutureWarning: Series.__getitem__ treating keys as positions is deprecated. In a future version, integer keys will always be treated as labels (consistent with DataFrame behavior). To access a value by position, use `ser.iloc[pos]`\n",
      "  root[0][0][4][0][0].text = df_final.loc[i][0]\n",
      "C:\\Users\\Fernando Guirra\\AppData\\Local\\Temp\\ipykernel_13980\\624368555.py:5: FutureWarning: Series.__getitem__ treating keys as positions is deprecated. In a future version, integer keys will always be treated as labels (consistent with DataFrame behavior). To access a value by position, use `ser.iloc[pos]`\n",
      "  root[0][0][4][0][1].text = df_final.loc[i][1]\n",
      "C:\\Users\\Fernando Guirra\\AppData\\Local\\Temp\\ipykernel_13980\\624368555.py:9: FutureWarning: Series.__getitem__ treating keys as positions is deprecated. In a future version, integer keys will always be treated as labels (consistent with DataFrame behavior). To access a value by position, use `ser.iloc[pos]`\n",
      "  root[0][0][4][0][5].text = df_final.loc[i][5]\n",
      "C:\\Users\\Fernando Guirra\\AppData\\Local\\Temp\\ipykernel_13980\\624368555.py:10: FutureWarning: Series.__getitem__ treating keys as positions is deprecated. In a future version, integer keys will always be treated as labels (consistent with DataFrame behavior). To access a value by position, use `ser.iloc[pos]`\n",
      "  root[0][0][4][0][6].text = df_final.loc[i][5]\n",
      "C:\\Users\\Fernando Guirra\\AppData\\Local\\Temp\\ipykernel_13980\\624368555.py:13: FutureWarning: Series.__getitem__ treating keys as positions is deprecated. In a future version, integer keys will always be treated as labels (consistent with DataFrame behavior). To access a value by position, use `ser.iloc[pos]`\n",
      "  arq_salvo = cam_salvo + retorna_nome(datetime.strptime(df_final.loc[i][1], '%d/%m/%Y %H:%M:%S').date())\n"
     ]
    }
   ],
   "source": [
    "root[0][0][0][0][1].text = df_final.loc[i][1] # DHA_COLETA\n",
    "\n",
    "# Produção\n",
    "root[0][0][4][0][0].text = df_final.loc[i][0]\n",
    "root[0][0][4][0][1].text = df_final.loc[i][1]\n",
    "root[0][0][4][0][2].text = '0,000'\n",
    "root[0][0][4][0][3].text = '0,00'\n",
    "root[0][0][4][0][4].text = '1440,0000'\n",
    "root[0][0][4][0][5].text = df_final.loc[i][5]\n",
    "root[0][0][4][0][6].text = df_final.loc[i][5]\n",
    "\n",
    "cam_salvo = '/Users/Fernando Guirra/Desktop/SCRIPTS PY/Nuevo/GERACAO/Novembro24/'\n",
    "arq_salvo = cam_salvo + retorna_nome(datetime.strptime(df_final.loc[i][1], '%d/%m/%Y %H:%M:%S').date())\n",
    "print(arq_salvo)\n",
    "tree.write(arq_salvo)"
   ]
  },
  {
   "cell_type": "code",
   "execution_count": 49,
   "id": "17ab794a",
   "metadata": {},
   "outputs": [
    {
     "data": {
      "text/plain": [
       "<Element 'DHA_COLETA' at 0x000002854EA668E0>"
      ]
     },
     "execution_count": 49,
     "metadata": {},
     "output_type": "execute_result"
    }
   ],
   "source": [
    "root[0][0][0][0][1]"
   ]
  },
  {
   "cell_type": "code",
   "execution_count": 51,
   "id": "f6348225",
   "metadata": {},
   "outputs": [
    {
     "name": "stderr",
     "output_type": "stream",
     "text": [
      "C:\\Users\\Fernando Guirra\\AppData\\Local\\Temp\\ipykernel_13980\\3649862986.py:1: FutureWarning: Series.__getitem__ treating keys as positions is deprecated. In a future version, integer keys will always be treated as labels (consistent with DataFrame behavior). To access a value by position, use `ser.iloc[pos]`\n",
      "  df_final.loc[i][5].replace(\".\", \",\")\n"
     ]
    },
    {
     "data": {
      "text/plain": [
       "'0,17620'"
      ]
     },
     "execution_count": 51,
     "metadata": {},
     "output_type": "execute_result"
    }
   ],
   "source": [
    "df_final.loc[i][5].replace(\".\", \",\")"
   ]
  },
  {
   "cell_type": "markdown",
   "id": "6531d7dd",
   "metadata": {},
   "source": [
    "### Geração Automatizada"
   ]
  },
  {
   "cell_type": "code",
   "execution_count": 54,
   "id": "b334762b",
   "metadata": {},
   "outputs": [
    {
     "name": "stdout",
     "output_type": "stream",
     "text": [
      "/Users/Fernando Guirra/Desktop/SCRIPTS PY/Nuevo/GERACAO/Novembro24/002_34812047_20241102120000.xml\n",
      "/Users/Fernando Guirra/Desktop/SCRIPTS PY/Nuevo/GERACAO/Novembro24/002_34812047_20241103120000.xml\n",
      "/Users/Fernando Guirra/Desktop/SCRIPTS PY/Nuevo/GERACAO/Novembro24/002_34812047_20241104120000.xml\n",
      "/Users/Fernando Guirra/Desktop/SCRIPTS PY/Nuevo/GERACAO/Novembro24/002_34812047_20241105120000.xml\n",
      "/Users/Fernando Guirra/Desktop/SCRIPTS PY/Nuevo/GERACAO/Novembro24/002_34812047_20241106120000.xml\n",
      "/Users/Fernando Guirra/Desktop/SCRIPTS PY/Nuevo/GERACAO/Novembro24/002_34812047_20241107120000.xml\n",
      "/Users/Fernando Guirra/Desktop/SCRIPTS PY/Nuevo/GERACAO/Novembro24/002_34812047_20241108120000.xml\n",
      "/Users/Fernando Guirra/Desktop/SCRIPTS PY/Nuevo/GERACAO/Novembro24/002_34812047_20241109120000.xml\n",
      "/Users/Fernando Guirra/Desktop/SCRIPTS PY/Nuevo/GERACAO/Novembro24/002_34812047_20241110120000.xml\n",
      "/Users/Fernando Guirra/Desktop/SCRIPTS PY/Nuevo/GERACAO/Novembro24/002_34812047_20241111120000.xml\n",
      "/Users/Fernando Guirra/Desktop/SCRIPTS PY/Nuevo/GERACAO/Novembro24/002_34812047_20241112120000.xml\n",
      "/Users/Fernando Guirra/Desktop/SCRIPTS PY/Nuevo/GERACAO/Novembro24/002_34812047_20241113120000.xml\n",
      "/Users/Fernando Guirra/Desktop/SCRIPTS PY/Nuevo/GERACAO/Novembro24/002_34812047_20241114120000.xml\n",
      "/Users/Fernando Guirra/Desktop/SCRIPTS PY/Nuevo/GERACAO/Novembro24/002_34812047_20241115120000.xml\n",
      "/Users/Fernando Guirra/Desktop/SCRIPTS PY/Nuevo/GERACAO/Novembro24/002_34812047_20241116120000.xml\n",
      "/Users/Fernando Guirra/Desktop/SCRIPTS PY/Nuevo/GERACAO/Novembro24/002_34812047_20241117120000.xml\n",
      "/Users/Fernando Guirra/Desktop/SCRIPTS PY/Nuevo/GERACAO/Novembro24/002_34812047_20241118120000.xml\n",
      "/Users/Fernando Guirra/Desktop/SCRIPTS PY/Nuevo/GERACAO/Novembro24/002_34812047_20241119120000.xml\n",
      "/Users/Fernando Guirra/Desktop/SCRIPTS PY/Nuevo/GERACAO/Novembro24/002_34812047_20241120120000.xml\n",
      "/Users/Fernando Guirra/Desktop/SCRIPTS PY/Nuevo/GERACAO/Novembro24/002_34812047_20241121120000.xml\n",
      "/Users/Fernando Guirra/Desktop/SCRIPTS PY/Nuevo/GERACAO/Novembro24/002_34812047_20241122120000.xml\n",
      "/Users/Fernando Guirra/Desktop/SCRIPTS PY/Nuevo/GERACAO/Novembro24/002_34812047_20241123120000.xml\n",
      "/Users/Fernando Guirra/Desktop/SCRIPTS PY/Nuevo/GERACAO/Novembro24/002_34812047_20241124120000.xml\n",
      "/Users/Fernando Guirra/Desktop/SCRIPTS PY/Nuevo/GERACAO/Novembro24/002_34812047_20241125120000.xml\n",
      "/Users/Fernando Guirra/Desktop/SCRIPTS PY/Nuevo/GERACAO/Novembro24/002_34812047_20241126120000.xml\n",
      "/Users/Fernando Guirra/Desktop/SCRIPTS PY/Nuevo/GERACAO/Novembro24/002_34812047_20241127120000.xml\n",
      "/Users/Fernando Guirra/Desktop/SCRIPTS PY/Nuevo/GERACAO/Novembro24/002_34812047_20241128120000.xml\n",
      "/Users/Fernando Guirra/Desktop/SCRIPTS PY/Nuevo/GERACAO/Novembro24/002_34812047_20241129120000.xml\n",
      "/Users/Fernando Guirra/Desktop/SCRIPTS PY/Nuevo/GERACAO/Novembro24/002_34812047_20241130120000.xml\n",
      "/Users/Fernando Guirra/Desktop/SCRIPTS PY/Nuevo/GERACAO/Novembro24/002_34812047_20241201120000.xml\n"
     ]
    },
    {
     "name": "stderr",
     "output_type": "stream",
     "text": [
      "C:\\Users\\Fernando Guirra\\AppData\\Local\\Temp\\ipykernel_13980\\4038407245.py:3: FutureWarning: Series.__getitem__ treating keys as positions is deprecated. In a future version, integer keys will always be treated as labels (consistent with DataFrame behavior). To access a value by position, use `ser.iloc[pos]`\n",
      "  root[0][0][0][0][1].text = retorna_data_coleta(df_final.loc[i][1]) # DHA_COLETA\n",
      "C:\\Users\\Fernando Guirra\\AppData\\Local\\Temp\\ipykernel_13980\\4038407245.py:6: FutureWarning: Series.__getitem__ treating keys as positions is deprecated. In a future version, integer keys will always be treated as labels (consistent with DataFrame behavior). To access a value by position, use `ser.iloc[pos]`\n",
      "  root[0][0][4][0][0].text = df_final.loc[i][0]\n",
      "C:\\Users\\Fernando Guirra\\AppData\\Local\\Temp\\ipykernel_13980\\4038407245.py:7: FutureWarning: Series.__getitem__ treating keys as positions is deprecated. In a future version, integer keys will always be treated as labels (consistent with DataFrame behavior). To access a value by position, use `ser.iloc[pos]`\n",
      "  root[0][0][4][0][1].text = df_final.loc[i][1]\n",
      "C:\\Users\\Fernando Guirra\\AppData\\Local\\Temp\\ipykernel_13980\\4038407245.py:11: FutureWarning: Series.__getitem__ treating keys as positions is deprecated. In a future version, integer keys will always be treated as labels (consistent with DataFrame behavior). To access a value by position, use `ser.iloc[pos]`\n",
      "  root[0][0][4][0][5].text = df_final.loc[i][5].replace(\".\", \",\")\n",
      "C:\\Users\\Fernando Guirra\\AppData\\Local\\Temp\\ipykernel_13980\\4038407245.py:12: FutureWarning: Series.__getitem__ treating keys as positions is deprecated. In a future version, integer keys will always be treated as labels (consistent with DataFrame behavior). To access a value by position, use `ser.iloc[pos]`\n",
      "  root[0][0][4][0][6].text = df_final.loc[i][5].replace(\".\", \",\")\n",
      "C:\\Users\\Fernando Guirra\\AppData\\Local\\Temp\\ipykernel_13980\\4038407245.py:15: FutureWarning: Series.__getitem__ treating keys as positions is deprecated. In a future version, integer keys will always be treated as labels (consistent with DataFrame behavior). To access a value by position, use `ser.iloc[pos]`\n",
      "  arq_salvo = cam_salvo + retorna_nome(datetime.strptime(df_final.loc[i][1], '%d/%m/%Y %H:%M:%S').date())\n"
     ]
    }
   ],
   "source": [
    "for i in range(df_final.shape[0]):\n",
    "    # Configuracao CV\n",
    "    root[0][0][0][0][1].text = retorna_data_coleta(df_final.loc[i][1]) # DHA_COLETA\n",
    "\n",
    "    # Produção\n",
    "    root[0][0][4][0][0].text = df_final.loc[i][0]\n",
    "    root[0][0][4][0][1].text = df_final.loc[i][1]\n",
    "    root[0][0][4][0][2].text = '0,000'\n",
    "    root[0][0][4][0][3].text = '0,00'\n",
    "    root[0][0][4][0][4].text = '1440,0000'\n",
    "    root[0][0][4][0][5].text = df_final.loc[i][5].replace(\".\", \",\")\n",
    "    root[0][0][4][0][6].text = df_final.loc[i][5].replace(\".\", \",\")\n",
    "\n",
    "    cam_salvo = '/Users/Fernando Guirra/Desktop/SCRIPTS PY/Nuevo/GERACAO/Novembro24/'\n",
    "    arq_salvo = cam_salvo + retorna_nome(datetime.strptime(df_final.loc[i][1], '%d/%m/%Y %H:%M:%S').date())\n",
    "    print(arq_salvo)\n",
    "    tree.write(arq_salvo)"
   ]
  },
  {
   "cell_type": "code",
   "execution_count": 73,
   "id": "199be542",
   "metadata": {},
   "outputs": [
    {
     "name": "stderr",
     "output_type": "stream",
     "text": [
      "C:\\Users\\Fernando Guirra\\AppData\\Local\\Temp\\ipykernel_15840\\325798354.py:1: FutureWarning: Series.__getitem__ treating keys as positions is deprecated. In a future version, integer keys will always be treated as labels (consistent with DataFrame behavior). To access a value by position, use `ser.iloc[pos]`\n",
      "  retorna_nome(datetime.strptime(df_final.loc[0][1], '%d/%m/%Y 00:00:00').date())\n"
     ]
    },
    {
     "data": {
      "text/plain": [
       "'002_34812047_20241002120000.xml'"
      ]
     },
     "execution_count": 73,
     "metadata": {},
     "output_type": "execute_result"
    }
   ],
   "source": [
    "retorna_nome(datetime.strptime(df_final.loc[0][1], '%d/%m/%Y 00:00:00').date())"
   ]
  },
  {
   "cell_type": "code",
   "execution_count": null,
   "id": "c5614325",
   "metadata": {},
   "outputs": [],
   "source": []
  }
 ],
 "metadata": {
  "kernelspec": {
   "display_name": "Python 3 (ipykernel)",
   "language": "python",
   "name": "python3"
  },
  "language_info": {
   "codemirror_mode": {
    "name": "ipython",
    "version": 3
   },
   "file_extension": ".py",
   "mimetype": "text/x-python",
   "name": "python",
   "nbconvert_exporter": "python",
   "pygments_lexer": "ipython3",
   "version": "3.12.4"
  }
 },
 "nbformat": 4,
 "nbformat_minor": 5
}
