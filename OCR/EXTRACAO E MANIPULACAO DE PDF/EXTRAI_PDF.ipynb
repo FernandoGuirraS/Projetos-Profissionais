{
 "cells": [
  {
   "cell_type": "markdown",
   "id": "c2a08ac5-3317-4ba9-8d3b-dd828b2394cf",
   "metadata": {},
   "source": [
    "# LEITURA DE PDF DE PASSAGEIROS - PETROBRAS"
   ]
  },
  {
   "cell_type": "markdown",
   "id": "6ce72523-38cf-4e15-80b5-596cd0e563a6",
   "metadata": {},
   "source": [
    "## CODIGO PARA SEPARAR PÁGINAS"
   ]
  },
  {
   "cell_type": "code",
   "execution_count": 3,
   "id": "3b5d6cb2-517e-4382-957d-5dcdc73f340a",
   "metadata": {},
   "outputs": [],
   "source": [
    "!pip install -q PyPDF2"
   ]
  },
  {
   "cell_type": "code",
   "execution_count": 111,
   "id": "7e533fa1-9764-4806-9a07-8f7aa6532f7b",
   "metadata": {},
   "outputs": [
    {
     "name": "stdout",
     "output_type": "stream",
     "text": [
      "PDFs processados, separados e renomeados com sucesso!\n"
     ]
    }
   ],
   "source": [
    "import os\n",
    "from PyPDF2 import PdfReader, PdfWriter\n",
    "\n",
    "#Função\n",
    "def leitura_rt_petrobras(arquivo):\n",
    "    with open(arquivo, 'rb') as arquivo:\n",
    "        leitor_pdf = PdfReader(arquivo)\n",
    "        # Lendo o texto da primeira página\n",
    "        texto = leitor_pdf.pages[0].extract_text()\n",
    "        nome_passageiro = \" \".join(texto.split(\"\\n\")[5].split(\" \")[4:-3]).strip()\n",
    "        num_rt = texto.split(\"\\n\")[1].split(\" \")[0].strip()\n",
    "        return num_rt, nome_passageiro\n",
    "\n",
    "# Caminhos\n",
    "input_pdf_dir = r\"C:\\Users\\gusta\\OneDrive\\Documentos\\ArquivoAcordos\\LerPDF\\RTAgrupada\"\n",
    "output_dir = \"/Users/gusta/OneDrive/Documentos/ArquivoAcordos/LerPDF/ArquivosRT/\"\n",
    "\n",
    "# Verificar se a pasta de saída existe\n",
    "if not os.path.exists(output_dir):\n",
    "    os.makedirs(output_dir)\n",
    "\n",
    "# Iterar sobre todos os arquivos PDF na pasta\n",
    "for file_name in os.listdir(input_pdf_dir):\n",
    "    if file_name.endswith(\".pdf\"):\n",
    "        input_pdf_path = os.path.join(input_pdf_dir, file_name)\n",
    "\n",
    "        # Carregar o arquivo PDF\n",
    "        reader = PdfReader(input_pdf_path)\n",
    "\n",
    "        # Separar as páginas do PDF\n",
    "        for i in range(len(reader.pages)):\n",
    "            writer = PdfWriter()\n",
    "            writer.add_page(reader.pages[i])\n",
    "\n",
    "            # Nome do arquivo de saída (nome do arquivo original + número da página)\n",
    "            output_pdf_path = os.path.join(output_dir, f\"{os.path.splitext(file_name)[0]}pagina{i + 1}.pdf\")\n",
    "\n",
    "            # Salvar o arquivo PDF separado\n",
    "            with open(output_pdf_path, \"wb\") as output_pdf:\n",
    "                writer.write(output_pdf)\n",
    "\n",
    "for file_rt in os.listdir(output_dir):\n",
    "    info_rt = leitura_rt_petrobras(output_dir + file_rt)\n",
    "    nome_arq = \"RT \" + \" \".join(info_rt)\n",
    "    os.rename(output_dir + file_rt, output_dir + nome_arq + '.pdf')\n",
    "\n",
    "print(\"PDFs processados, separados e renomeados com sucesso!\")"
   ]
  },
  {
   "cell_type": "markdown",
   "id": "87b94d00-ebc3-4721-b32f-5b1b3bc39885",
   "metadata": {},
   "source": [
    "## LENDO UMA PÁGINA E EXTRAINDO INFORMAÇÃO"
   ]
  },
  {
   "cell_type": "code",
   "execution_count": 7,
   "id": "d20164fe-b4b0-4fc8-869a-effba63f634d",
   "metadata": {},
   "outputs": [],
   "source": [
    "import os\n",
    "from PyPDF2 import PdfReader, PdfWriter"
   ]
  },
  {
   "cell_type": "code",
   "execution_count": 57,
   "id": "61638139-c9eb-4252-93e5-06026e7f0eec",
   "metadata": {},
   "outputs": [],
   "source": [
    "def retorna_nome_passageiro(texto):\n",
    "    nome_passageiro = \" \".join(texto.split(\"\\n\")[5].split(\" \")[4:-3])\n",
    "    return nome_passageiro.strip()"
   ]
  },
  {
   "cell_type": "code",
   "execution_count": 101,
   "id": "c7fc5d12-b7a8-43e8-8007-d4d0557c93e2",
   "metadata": {},
   "outputs": [],
   "source": [
    "def leitura_rt_petrobras(arquivo):\n",
    "    with open(arquivo, 'rb') as arquivo:\n",
    "        leitor_pdf = PdfReader(arquivo)\n",
    "        # Lendo o texto da primeira página\n",
    "        texto = leitor_pdf.pages[0].extract_text()\n",
    "        nome_passageiro = \" \".join(texto.split(\"\\n\")[5].split(\" \")[4:-3]).strip()\n",
    "        num_rt = texto.split(\"\\n\")[1].split(\" \")[0].strip()\n",
    "        return num_rt, nome_passageiro"
   ]
  },
  {
   "cell_type": "code",
   "execution_count": 83,
   "id": "ffbf14ef-acd5-4225-8ca8-727dfd1004ae",
   "metadata": {},
   "outputs": [],
   "source": [
    "for file_rt in os.listdir(output_dir):\n",
    "    os.rename(output_dir + file_rt, output_dir + leitura_rt_petrobras(output_dir + file_rt) + '.pdf')"
   ]
  },
  {
   "cell_type": "code",
   "execution_count": 49,
   "id": "a6fcaf06-2df1-4a05-9a4d-c471a39b99ae",
   "metadata": {},
   "outputs": [
    {
     "data": {
      "text/plain": [
       "'GERSON PAIXAO BUENO'"
      ]
     },
     "execution_count": 49,
     "metadata": {},
     "output_type": "execute_result"
    }
   ],
   "source": [
    "nome_passageiro.strip()"
   ]
  },
  {
   "cell_type": "code",
   "execution_count": 99,
   "id": "2457f74d-8722-47cf-a177-b25f2ac3cef0",
   "metadata": {},
   "outputs": [
    {
     "data": {
      "text/plain": [
       "'324676484'"
      ]
     },
     "execution_count": 99,
     "metadata": {},
     "output_type": "execute_result"
    }
   ],
   "source": [
    "texto.split(\"\\n\")[1].split(\" \")[0].strip()"
   ]
  },
  {
   "cell_type": "code",
   "execution_count": 105,
   "id": "ba8edb07-d135-4f6f-8624-1c199bd4805b",
   "metadata": {},
   "outputs": [],
   "source": [
    "rt = leitura_rt_petrobras(\"/Users/Fernando Guirra/Desktop/SCRIPTS PY/PDF PETROBRAS/ArquivosRT/ANTONIO CARLOS DOS SANTOS.pdf\")\n",
    "nome_arq = \"RT \" + \" \".join(rt)"
   ]
  },
  {
   "cell_type": "code",
   "execution_count": 107,
   "id": "525ee516-e089-4100-8d8a-522d3c36b8fc",
   "metadata": {},
   "outputs": [
    {
     "data": {
      "text/plain": [
       "'RT 324676484 ANTONIO CARLOS DOS SANTOS'"
      ]
     },
     "execution_count": 107,
     "metadata": {},
     "output_type": "execute_result"
    }
   ],
   "source": [
    "nome_arq"
   ]
  },
  {
   "cell_type": "code",
   "execution_count": null,
   "id": "5583490b-7190-4fd9-9b06-3511572f98cd",
   "metadata": {},
   "outputs": [],
   "source": []
  }
 ],
 "metadata": {
  "kernelspec": {
   "display_name": "Python 3 (ipykernel)",
   "language": "python",
   "name": "python3"
  },
  "language_info": {
   "codemirror_mode": {
    "name": "ipython",
    "version": 3
   },
   "file_extension": ".py",
   "mimetype": "text/x-python",
   "name": "python",
   "nbconvert_exporter": "python",
   "pygments_lexer": "ipython3",
   "version": "3.12.4"
  }
 },
 "nbformat": 4,
 "nbformat_minor": 5
}
